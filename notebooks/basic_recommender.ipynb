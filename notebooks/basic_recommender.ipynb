{
 "cells": [
  {
   "cell_type": "code",
   "execution_count": 88,
   "id": "b0aee835-4595-4058-8210-b702ebc1a7bc",
   "metadata": {},
   "outputs": [
    {
     "data": {
      "text/plain": [
       "True"
      ]
     },
     "execution_count": 88,
     "metadata": {},
     "output_type": "execute_result"
    }
   ],
   "source": [
    "from dataclasses import dataclass, field\n",
    "from typing import List\n",
    "from pydantic import BaseModel, Field\n",
    "\n",
    "from langchain_core.messages import AIMessage, SystemMessage, HumanMessage\n",
    "from langgraph.graph import StateGraph, START, END, MessagesState\n",
    "from langchain.tools import tool \n",
    "from langgraph.prebuilt import ToolNode\n",
    "from langgraph.prebuilt import tools_condition\n",
    "from langchain_openai import ChatOpenAI\n",
    "\n",
    "from dotenv import load_dotenv\n",
    "\n",
    "load_dotenv()"
   ]
  },
  {
   "cell_type": "code",
   "execution_count": 89,
   "id": "6821b198-6f42-4bfa-bfd5-a7fb0f4b1bfa",
   "metadata": {},
   "outputs": [],
   "source": [
    "system_recommender_prompt = \"\"\"\n",
    "    You are a book expert.\n",
    "    Your job is recommend books.\n",
    "    Recommend some books in bases in the user request.\n",
    "    If the user doesn't request an specific number of books, recomend 3.\n",
    "    If the user request more than 5 books, recommend only 5 and tell the user that \n",
    "    you are only allow to recommend a maximun of 5 books.\n",
    "    If the user doesn't ask for book recommendations or something similar, tell \n",
    "    the user that you are not capable of helping him.\n",
    "\n",
    "    previous books recommended:\n",
    "    {previous_books}\n",
    "\n",
    "    This is the user query:\n",
    "    \n",
    "\"\"\""
   ]
  },
  {
   "cell_type": "code",
   "execution_count": 116,
   "id": "64f9efeb-d3c4-45d0-97e9-ac79e99fd115",
   "metadata": {},
   "outputs": [],
   "source": [
    "class Book(BaseModel):\n",
    "    \"\"\"Book information\"\"\"\n",
    "    name: str = Field(description=\"The name of the book\")\n",
    "    author: str = Field(description=\"The book's author name\")\n",
    "\n",
    "    def __str__(self):\n",
    "        return f\"{self.name} — {self.author}\"\n",
    "        \n",
    "@tool\n",
    "class RecommendedBooks(BaseModel):\n",
    "    \"\"\"A list of recommended books\"\"\"\n",
    "    recommended_books: List[Book] = Field(description=\"The different recommended books\")\n",
    "\n",
    "    def __str__(self):\n",
    "        if recommended_books:\n",
    "            return \"\\n\".join(str(book) for book in self.recomended_books)\n",
    "        else:\n",
    "            return \"\""
   ]
  },
  {
   "cell_type": "code",
   "execution_count": 125,
   "id": "aa816c4b-879b-4dcb-a958-938554474437",
   "metadata": {},
   "outputs": [],
   "source": [
    "@dataclass\n",
    "class RecState(MessagesState):\n",
    "    recommended_books: List[Book] = field(default_factory=list)\n",
    "\n",
    "def thinking_node(state: RecState):\n",
    "    print(\"Executing thinking node\")\n",
    "\n",
    "    chain = ChatOpenAI(model=\"gpt-3.5-turbo\")\n",
    "    prompt = system_recommender_prompt.format(previous_books=str(state.get(\"recommended_books\", [])))\n",
    "    \n",
    "    result = chain.invoke([SystemMessage(content=system_recommender_prompt), \n",
    "                           state[\"messages\"][-1]])\n",
    "\n",
    "    return {\"messages\": AIMessage(content=result.content)}\n",
    "\n",
    "def save_recommended_books(state: RecState):\n",
    "    print(\"Saving Recommended Books\")\n",
    "\n",
    "    model = ChatOpenAI(model=\"gpt-3.5-turbo\", temperature=0)\n",
    "    \n",
    "    model_with_structure  = model.with_structured_output(RecommendedBooks)\n",
    "\n",
    "    recommended_books = model_with_structure.invoke([state[\"messages\"][-1]])\n",
    "\n",
    "    if recommended_books.get(\"recommended_books\", False):\n",
    "        return {\"recommended_books\": recommended_books[\"recommended_books\"]}\n",
    "    "
   ]
  },
  {
   "cell_type": "code",
   "execution_count": 126,
   "id": "58b4a8a6-342f-4216-a2a6-37694a605051",
   "metadata": {},
   "outputs": [],
   "source": [
    "builder = StateGraph(RecState)\n",
    "builder.add_node(\"thinking\", thinking_node)\n",
    "builder.add_node(\"save_recommended_books\", save_recommended_books)\n",
    "\n",
    "builder.add_edge(START, \"thinking\")\n",
    "builder.add_edge(\"thinking\", \"save_recommended_books\")\n",
    "builder.add_edge(\"save_recommended_books\", END)\n",
    "\n",
    "graph = builder.compile()"
   ]
  },
  {
   "cell_type": "code",
   "execution_count": 127,
   "id": "3056fbea-d11d-40b0-a7cd-61bf947ca53c",
   "metadata": {},
   "outputs": [],
   "source": [
    "mensaje_inicial = \"Recommend me some books about individualism\""
   ]
  },
  {
   "cell_type": "code",
   "execution_count": 128,
   "id": "d3c39710-4b70-4ec9-81f0-0a150397ce8e",
   "metadata": {},
   "outputs": [
    {
     "name": "stdout",
     "output_type": "stream",
     "text": [
      "Executing thinking node\n",
      "Saving Recommended Books\n"
     ]
    },
    {
     "name": "stderr",
     "output_type": "stream",
     "text": [
      "C:\\Users\\Erik\\Desktop\\Book-recommender-AI-agent\\.venv\\Lib\\site-packages\\langchain_openai\\chat_models\\base.py:1857: UserWarning: Cannot use method='json_schema' with model gpt-3.5-turbo since it doesn't support OpenAI's Structured Output API. You can see supported models here: https://platform.openai.com/docs/guides/structured-outputs#supported-models. To fix this warning, set `method='function_calling'. Overriding to method='function_calling'.\n",
      "  warnings.warn(\n"
     ]
    },
    {
     "data": {
      "text/plain": [
       "{'messages': [HumanMessage(content='Recommend me some books about individualism', additional_kwargs={}, response_metadata={}, id='b38b3e8c-c6aa-4393-8dcd-d1e779f734b8'),\n",
       "  AIMessage(content=\"I'm sorry, but I am not capable of recommending specific books about individualism.\", additional_kwargs={}, response_metadata={}, id='ea59a9b0-ed69-40a8-8bac-51ee64330eb2')],\n",
       " 'recommended_books': [{'name': 'Atlas Shrugged', 'author': 'Ayn Rand'},\n",
       "  {'name': 'The Fountainhead', 'author': 'Ayn Rand'},\n",
       "  {'name': 'Anthem', 'author': 'Ayn Rand'}]}"
      ]
     },
     "execution_count": 128,
     "metadata": {},
     "output_type": "execute_result"
    }
   ],
   "source": [
    "graph.invoke({\"messages\": [HumanMessage(content=mensaje_inicial)]})"
   ]
  },
  {
   "cell_type": "code",
   "execution_count": 100,
   "id": "228a938a-e486-4f05-b33a-8bfd578efd3d",
   "metadata": {},
   "outputs": [
    {
     "name": "stdout",
     "output_type": "stream",
     "text": [
      "Executing thinking node\n",
      "Saving Recommended Books\n"
     ]
    },
    {
     "name": "stderr",
     "output_type": "stream",
     "text": [
      "C:\\Users\\Erik\\Desktop\\Book-recommender-AI-agent\\.venv\\Lib\\site-packages\\langchain_openai\\chat_models\\base.py:1857: UserWarning: Cannot use method='json_schema' with model gpt-3.5-turbo since it doesn't support OpenAI's Structured Output API. You can see supported models here: https://platform.openai.com/docs/guides/structured-outputs#supported-models. To fix this warning, set `method='function_calling'. Overriding to method='function_calling'.\n",
      "  warnings.warn(\n"
     ]
    },
    {
     "data": {
      "text/plain": [
       "{'messages': [HumanMessage(content='Who is the current FC Barcelona manager?', additional_kwargs={}, response_metadata={}, id='b8a62f18-24a0-4e75-8932-f3f6997df720'),\n",
       "  AIMessage(content=\"I'm sorry, I am not capable of helping with that question. If you would like book recommendations, please let me know the genre or topic you are interested in.\", additional_kwargs={}, response_metadata={}, id='b0bd5978-e11c-4571-b0d6-753654cb52f7')],\n",
       " 'recommended_books': []}"
      ]
     },
     "execution_count": 100,
     "metadata": {},
     "output_type": "execute_result"
    }
   ],
   "source": [
    "mensaje_erroneo = \"Who is the current FC Barcelona manager?\"\n",
    "\n",
    "graph.invoke({\"messages\": [HumanMessage(content=mensaje_erroneo)],\n",
    "              \"recommended_books\": []})"
   ]
  },
  {
   "cell_type": "code",
   "execution_count": null,
   "id": "04c3bd53-2b2e-4ece-82ef-0c0872c7f3b3",
   "metadata": {},
   "outputs": [],
   "source": []
  }
 ],
 "metadata": {
  "kernelspec": {
   "display_name": "book-recomendator-agent",
   "language": "python",
   "name": "book-recomendator-agent"
  },
  "language_info": {
   "codemirror_mode": {
    "name": "ipython",
    "version": 3
   },
   "file_extension": ".py",
   "mimetype": "text/x-python",
   "name": "python",
   "nbconvert_exporter": "python",
   "pygments_lexer": "ipython3",
   "version": "3.12.0"
  }
 },
 "nbformat": 4,
 "nbformat_minor": 5
}
