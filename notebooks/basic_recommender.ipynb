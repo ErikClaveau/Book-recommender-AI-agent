{
 "cells": [
  {
   "cell_type": "code",
   "execution_count": 52,
   "id": "b0aee835-4595-4058-8210-b702ebc1a7bc",
   "metadata": {},
   "outputs": [
    {
     "data": {
      "text/plain": [
       "True"
      ]
     },
     "execution_count": 52,
     "metadata": {},
     "output_type": "execute_result"
    }
   ],
   "source": [
    "from dotenv import load_dotenv\n",
    "from typing import TypedDict\n",
    "from langchain_core.messages import HumanMessage, AIMessage, SystemMessage\n",
    "from langchain_openai import ChatOpenAI\n",
    "from langgraph.graph import StateGraph, START, END, MessagesState\n",
    "\n",
    "load_dotenv()"
   ]
  },
  {
   "cell_type": "code",
   "execution_count": 53,
   "id": "6821b198-6f42-4bfa-bfd5-a7fb0f4b1bfa",
   "metadata": {},
   "outputs": [],
   "source": [
    "prompt = \"\"\"\n",
    "    You are a book expert.\n",
    "    Your job is recommend books.\n",
    "    Recommend some books in bases in the user request.\n",
    "    If the user doesn't request an specific number of books, recomend 3.\n",
    "    If the user request more than 5 books, recommend only 5 and tell the user that \n",
    "    you are only allow to recommend a maximun of 5 books.\n",
    "    If the user doesn't ask for book recommendations or something similar, tell \n",
    "    the user that you are not capable of helping him.\n",
    "\n",
    "    This is the user query:\n",
    "    \n",
    "\"\"\""
   ]
  },
  {
   "cell_type": "code",
   "execution_count": 84,
   "id": "967293c2-1eb5-4fbd-8d99-e9268d5b78a3",
   "metadata": {},
   "outputs": [],
   "source": [
    "def nodo_inicio(state: MessagesState):\n",
    "    print(\"Ejecutando nodo de inicio\")\n",
    "    \n",
    "def nodo_intermedio(state: MessagesState):\n",
    "    print(\"Ejecutando nodo intermedio\")\n",
    "\n",
    "    chain = ChatOpenAI(model=\"gpt-3.5-turbo\")\n",
    "    \n",
    "    result = chain.invoke([SystemMessage(content=prompt), state[\"messages\"][-1]])\n",
    "\n",
    "    return {\"messages\": AIMessage(content=result.content)}\n",
    "\n",
    "def nodo_final(state: MessagesState):\n",
    "    print(\"Ejecutando nodo final\")"
   ]
  },
  {
   "cell_type": "code",
   "execution_count": 85,
   "id": "58b4a8a6-342f-4216-a2a6-37694a605051",
   "metadata": {},
   "outputs": [
    {
     "data": {
      "text/plain": [
       "<langgraph.graph.state.StateGraph at 0x12c6df8d4c0>"
      ]
     },
     "execution_count": 85,
     "metadata": {},
     "output_type": "execute_result"
    }
   ],
   "source": [
    "builder = StateGraph(MessagesState)\n",
    "\n",
    "builder.add_node(\"inicio\", nodo_inicio)\n",
    "builder.add_node(\"intermedio\", nodo_intermedio)\n",
    "builder.add_node(\"final\", nodo_final)\n",
    "\n",
    "builder.add_edge(START, \"inicio\")\n",
    "builder.add_edge(\"inicio\", \"intermedio\")\n",
    "builder.add_edge(\"intermedio\", \"final\")\n",
    "builder.add_edge(\"final\", END)\n"
   ]
  },
  {
   "cell_type": "code",
   "execution_count": 86,
   "id": "fcad256e-b99a-48e6-b7b2-a1e644771928",
   "metadata": {},
   "outputs": [],
   "source": [
    "grafo_compilado = builder.compile()"
   ]
  },
  {
   "cell_type": "code",
   "execution_count": 87,
   "id": "fbda63f1-14fd-487d-9553-1bed3f5b414b",
   "metadata": {},
   "outputs": [],
   "source": [
    "mensaje_inicial = \"Recommend me some books about individualism\""
   ]
  },
  {
   "cell_type": "code",
   "execution_count": 88,
   "id": "d3c39710-4b70-4ec9-81f0-0a150397ce8e",
   "metadata": {},
   "outputs": [
    {
     "name": "stdout",
     "output_type": "stream",
     "text": [
      "Ejecutando nodo de inicio\n",
      "Ejecutando nodo intermedio\n",
      "Ejecutando nodo final\n"
     ]
    },
    {
     "data": {
      "text/plain": [
       "{'messages': [HumanMessage(content='Recommend me some books about individualism', additional_kwargs={}, response_metadata={}, id='f92e385d-82e5-46c2-84e7-5244867a7b5b'),\n",
       "  AIMessage(content='Sure! Here are 3 books about individualism that you might enjoy:\\n\\n1. \"Atlas Shrugged\" by Ayn Rand\\n2. \"Self-Reliance\" by Ralph Waldo Emerson\\n3. \"The Fountainhead\" by Ayn Rand\\n\\nIf you would like more recommendations, feel free to ask!', additional_kwargs={}, response_metadata={}, id='ece2bbfa-bce6-4b02-a2be-678095f530b8')]}"
      ]
     },
     "execution_count": 88,
     "metadata": {},
     "output_type": "execute_result"
    }
   ],
   "source": [
    "grafo_compilado.invoke({\"messages\": [HumanMessage(content=mensaje_inicial)]})"
   ]
  },
  {
   "cell_type": "code",
   "execution_count": 89,
   "id": "228a938a-e486-4f05-b33a-8bfd578efd3d",
   "metadata": {},
   "outputs": [
    {
     "name": "stdout",
     "output_type": "stream",
     "text": [
      "Ejecutando nodo de inicio\n",
      "Ejecutando nodo intermedio\n",
      "Ejecutando nodo final\n"
     ]
    },
    {
     "data": {
      "text/plain": [
       "{'messages': [HumanMessage(content='Who is the current FC Barcelona manager?', additional_kwargs={}, response_metadata={}, id='f3b2c4c4-fa2d-4e71-a5ea-123c293c6a5d'),\n",
       "  AIMessage(content=\"I'm sorry, I am not capable of helping with that question.\", additional_kwargs={}, response_metadata={}, id='3f81ad27-6e22-4cfe-b766-3f87fd361a3f')]}"
      ]
     },
     "execution_count": 89,
     "metadata": {},
     "output_type": "execute_result"
    }
   ],
   "source": [
    "mensaje_erroneo = \"Who is the current FC Barcelona manager?\"\n",
    "\n",
    "grafo_compilado.invoke({\"messages\": [HumanMessage(content=mensaje_erroneo)]})"
   ]
  },
  {
   "cell_type": "code",
   "execution_count": null,
   "id": "04c3bd53-2b2e-4ece-82ef-0c0872c7f3b3",
   "metadata": {},
   "outputs": [],
   "source": []
  }
 ],
 "metadata": {
  "kernelspec": {
   "display_name": "Python 3 (ipykernel)",
   "language": "python",
   "name": "python3"
  },
  "language_info": {
   "codemirror_mode": {
    "name": "ipython",
    "version": 3
   },
   "file_extension": ".py",
   "mimetype": "text/x-python",
   "name": "python",
   "nbconvert_exporter": "python",
   "pygments_lexer": "ipython3",
   "version": "3.12.0"
  }
 },
 "nbformat": 4,
 "nbformat_minor": 5
}
